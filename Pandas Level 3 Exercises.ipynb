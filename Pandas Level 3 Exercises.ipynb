{
 "cells": [
  {
   "cell_type": "markdown",
   "metadata": {},
   "source": [
    "# 1.How to create lags and leads of a column in a dataframe?\n",
    "\n",
    "* Create two new columns in df, one of which is a lag1 (shift column a down by 1 row) of column ‘a’ and the other is a lead1 (shift column b up by 1 row).\n",
    "\n",
    "* Input\n",
    "\n",
    "* df = pd.DataFrame(np.random.randint(1, 100, 20).reshape(-1, 4), columns = list('abcd'))\n",
    "\n",
    "* a b c d\n",
    "\n",
    "*  0 66 34 76 47\n",
    "* 1 20 86 10 81\n",
    "* 2 75 73 51 28\n",
    "* 3 1 1 9 83\n",
    "* 4 30 47 67 4 "
   ]
  },
  {
   "cell_type": "code",
   "execution_count": 35,
   "metadata": {},
   "outputs": [
    {
     "name": "stdout",
     "output_type": "stream",
     "text": [
      "    a   b   c   d  a_lag1  b_lead1\n",
      "0  59  25  60  57     NaN     25.0\n",
      "1  87  25  33  29    59.0     90.0\n",
      "2  55  90  23   2    87.0      8.0\n",
      "3  19   8  26  64    55.0     91.0\n",
      "4  78  91  30  73    19.0      NaN\n"
     ]
    }
   ],
   "source": [
    "import pandas as pd\n",
    "import numpy as np\n",
    "df = pd.DataFrame(np.random.randint(1, 100, 20).reshape(-1, 4), columns = list('abcd'))\n",
    "df['a_lag1'] = df['a'].shift(1)\n",
    "df['b_lead1'] = df['b'].shift(-1)\n",
    "print(df)"
   ]
  },
  {
   "cell_type": "markdown",
   "metadata": {},
   "source": [
    "# 2.How to get the frequency of unique values in the entire dataframe?\n",
    "* Get the frequency of unique values in the entire dataframe df.\n",
    "\n",
    "* Input\n",
    "\n",
    "* df = pd.DataFrame(np.random.randint(1, 10, 20).reshape(-1, 4), columns = list('abcd'))"
   ]
  },
  {
   "cell_type": "code",
   "execution_count": 36,
   "metadata": {},
   "outputs": [
    {
     "data": {
      "text/plain": [
       "8    3\n",
       "4    3\n",
       "3    3\n",
       "1    3\n",
       "9    2\n",
       "7    2\n",
       "5    2\n",
       "2    2\n",
       "dtype: int64"
      ]
     },
     "execution_count": 36,
     "metadata": {},
     "output_type": "execute_result"
    }
   ],
   "source": [
    "df = pd.DataFrame(np.random.randint(1, 10, 20).reshape(-1, 4), columns = list('abcd'))\n",
    "pd.value_counts(df.values.ravel())"
   ]
  },
  {
   "cell_type": "markdown",
   "metadata": {},
   "source": [
    "# 3.How to split a text column into two separate columns?\n",
    "\n",
    "* Split the string column in df to form a dataframe with 3 columns as shown.\n",
    "\n",
    "* Input\n",
    "\n",
    "* df = pd.DataFrame([\"STD, City State\",\"33, Kolkata West Bengal\",\"44, Chennai Tamil Nadu\",\"40, Hyderabad Telengana\",\"80,      * Bangalore Karnataka\"], columns=['row'])"
   ]
  },
  {
   "cell_type": "code",
   "execution_count": 39,
   "metadata": {},
   "outputs": [
    {
     "data": {
      "text/html": [
       "<div>\n",
       "<style scoped>\n",
       "    .dataframe tbody tr th:only-of-type {\n",
       "        vertical-align: middle;\n",
       "    }\n",
       "\n",
       "    .dataframe tbody tr th {\n",
       "        vertical-align: top;\n",
       "    }\n",
       "\n",
       "    .dataframe thead th {\n",
       "        text-align: right;\n",
       "    }\n",
       "</style>\n",
       "<table border=\"1\" class=\"dataframe\">\n",
       "  <thead>\n",
       "    <tr style=\"text-align: right;\">\n",
       "      <th></th>\n",
       "      <th>row</th>\n",
       "    </tr>\n",
       "  </thead>\n",
       "  <tbody>\n",
       "    <tr>\n",
       "      <th>0</th>\n",
       "      <td>STD, City    State</td>\n",
       "    </tr>\n",
       "    <tr>\n",
       "      <th>1</th>\n",
       "      <td>33, Kolkata    West Bengal</td>\n",
       "    </tr>\n",
       "    <tr>\n",
       "      <th>2</th>\n",
       "      <td>44, Chennai    Tamil Nadu</td>\n",
       "    </tr>\n",
       "    <tr>\n",
       "      <th>3</th>\n",
       "      <td>40, Hyderabad    Telengana</td>\n",
       "    </tr>\n",
       "    <tr>\n",
       "      <th>4</th>\n",
       "      <td>80, Bangalore    Karnataka</td>\n",
       "    </tr>\n",
       "  </tbody>\n",
       "</table>\n",
       "</div>"
      ],
      "text/plain": [
       "                          row\n",
       "0          STD, City    State\n",
       "1  33, Kolkata    West Bengal\n",
       "2   44, Chennai    Tamil Nadu\n",
       "3  40, Hyderabad    Telengana\n",
       "4  80, Bangalore    Karnataka"
      ]
     },
     "execution_count": 39,
     "metadata": {},
     "output_type": "execute_result"
    }
   ],
   "source": [
    "df = pd.DataFrame([\"STD, City    State\",\n",
    "\"33, Kolkata    West Bengal\",\n",
    "\"44, Chennai    Tamil Nadu\",\n",
    "\"40, Hyderabad    Telengana\",\n",
    "\"80, Bangalore    Karnataka\"], columns=['row'])\n",
    "\n",
    "df_out = df.row.str.split(',|\\t', expand=True)\n",
    "df"
   ]
  },
  {
   "cell_type": "markdown",
   "metadata": {},
   "source": [
    "# 4.How to join two dataframes by 2 columns so they have only the common rows?\n",
    "* Join dataframes df1 and df2 by ‘fruit-pazham’ and ‘weight-kilo’.\n",
    "\n",
    "* Input\n",
    "\n",
    "* df1 = pd.DataFrame({'fruit': ['apple', 'banana', 'orange'] * 3,\n",
    "\n",
    "              'weight': ['high', 'medium', 'low'] * 3,\n",
    "              'price': np.random.randint(0, 15, 9)})\n",
    "* df2 = pd.DataFrame({'pazham': ['apple', 'orange', 'pine'] * 2,\n",
    "\n",
    "              'kilo': ['high', 'low'] * 3,\n",
    "              'price': np.random.randint(0, 15, 6)})"
   ]
  },
  {
   "cell_type": "code",
   "execution_count": 21,
   "metadata": {},
   "outputs": [
    {
     "name": "stdout",
     "output_type": "stream",
     "text": [
      "    fruit weight  price_left  pazham  kilo  price_right\n",
      "0   apple   high           9   apple  high           11\n",
      "1   apple   high           9   apple  high           11\n",
      "2   apple   high           7   apple  high           11\n",
      "3  orange    low           7  orange   low            8\n",
      "4  orange    low           7  orange   low            8\n",
      "5  orange    low           1  orange   low            8\n"
     ]
    }
   ],
   "source": [
    "import pandas as pd \n",
    "import numpy as np\n",
    "\n",
    "df1 = pd.DataFrame({'fruit': ['apple', 'banana', 'orange'] * 3,\n",
    "                    'weight': ['high', 'medium', 'low'] * 3,\n",
    "                    'price': np.random.randint(0, 15, 9)})\n",
    "\n",
    "df2 = pd.DataFrame({'pazham': ['apple', 'orange', 'pine'] * 2,\n",
    "                    'kilo': ['high', 'low'] * 3,\n",
    "                    'price': np.random.randint(0, 15, 6)})\n",
    "out = df1.merge(df2,left_on=('fruit','weight'),right_on=('pazham','kilo'),how='inner',suffixes=('_left','_right')).head(10)\n",
    "print(out)"
   ]
  },
  {
   "cell_type": "markdown",
   "metadata": {},
   "source": [
    "# 5.How to get the positions where values of two columns match?"
   ]
  },
  {
   "cell_type": "code",
   "execution_count": 48,
   "metadata": {},
   "outputs": [
    {
     "data": {
      "text/html": [
       "<div>\n",
       "<style scoped>\n",
       "    .dataframe tbody tr th:only-of-type {\n",
       "        vertical-align: middle;\n",
       "    }\n",
       "\n",
       "    .dataframe tbody tr th {\n",
       "        vertical-align: top;\n",
       "    }\n",
       "\n",
       "    .dataframe thead th {\n",
       "        text-align: right;\n",
       "    }\n",
       "</style>\n",
       "<table border=\"1\" class=\"dataframe\">\n",
       "  <thead>\n",
       "    <tr style=\"text-align: right;\">\n",
       "      <th></th>\n",
       "      <th>fruit1</th>\n",
       "      <th>fruit2</th>\n",
       "    </tr>\n",
       "  </thead>\n",
       "  <tbody>\n",
       "    <tr>\n",
       "      <th>0</th>\n",
       "      <td>apple</td>\n",
       "      <td>apple</td>\n",
       "    </tr>\n",
       "    <tr>\n",
       "      <th>1</th>\n",
       "      <td>apple</td>\n",
       "      <td>apple</td>\n",
       "    </tr>\n",
       "    <tr>\n",
       "      <th>2</th>\n",
       "      <td>banana</td>\n",
       "      <td>banana</td>\n",
       "    </tr>\n",
       "    <tr>\n",
       "      <th>3</th>\n",
       "      <td>banana</td>\n",
       "      <td>orange</td>\n",
       "    </tr>\n",
       "    <tr>\n",
       "      <th>4</th>\n",
       "      <td>banana</td>\n",
       "      <td>orange</td>\n",
       "    </tr>\n",
       "    <tr>\n",
       "      <th>5</th>\n",
       "      <td>apple</td>\n",
       "      <td>apple</td>\n",
       "    </tr>\n",
       "    <tr>\n",
       "      <th>6</th>\n",
       "      <td>banana</td>\n",
       "      <td>banana</td>\n",
       "    </tr>\n",
       "    <tr>\n",
       "      <th>7</th>\n",
       "      <td>banana</td>\n",
       "      <td>apple</td>\n",
       "    </tr>\n",
       "    <tr>\n",
       "      <th>8</th>\n",
       "      <td>apple</td>\n",
       "      <td>apple</td>\n",
       "    </tr>\n",
       "    <tr>\n",
       "      <th>9</th>\n",
       "      <td>apple</td>\n",
       "      <td>banana</td>\n",
       "    </tr>\n",
       "  </tbody>\n",
       "</table>\n",
       "</div>"
      ],
      "text/plain": [
       "   fruit1  fruit2\n",
       "0   apple   apple\n",
       "1   apple   apple\n",
       "2  banana  banana\n",
       "3  banana  orange\n",
       "4  banana  orange\n",
       "5   apple   apple\n",
       "6  banana  banana\n",
       "7  banana   apple\n",
       "8   apple   apple\n",
       "9   apple  banana"
      ]
     },
     "execution_count": 48,
     "metadata": {},
     "output_type": "execute_result"
    }
   ],
   "source": [
    "df = pd.DataFrame({'fruit1': np.random.choice(['apple', 'orange', 'banana'], 10),\n",
    "                    'fruit2': np.random.choice(['apple', 'orange', 'banana'], 10)})\n",
    "\n",
    "np.where(df.fruit1 == df.fruit2)\n",
    "df"
   ]
  },
  {
   "cell_type": "markdown",
   "metadata": {},
   "source": [
    "# 6.How to compute grouped mean on pandas dataframe and keep the grouped column as another column (not index)?\n",
    "\n",
    "* In df, Compute the mean price of every fruit, while keeping the fruit as another column instead of an index.\n",
    "\n",
    "* Input\n",
    "\n",
    "* df = pd.DataFrame({'fruit': ['apple', 'banana', 'orange'] * 3,\n",
    "\n",
    "             'rating': np.random.rand(9),\n",
    "             'price': np.random.randint(0, 15, 9)})"
   ]
  },
  {
   "cell_type": "code",
   "execution_count": 49,
   "metadata": {},
   "outputs": [
    {
     "name": "stdout",
     "output_type": "stream",
     "text": [
      "    fruit     price\n",
      "0   apple  7.666667\n",
      "1  banana  9.666667\n",
      "2  orange  7.666667\n"
     ]
    }
   ],
   "source": [
    "df = pd.DataFrame({'fruit': ['apple', 'banana', 'orange'] * 3,\n",
    "                   'rating': np.random.rand(9),\n",
    "                   'price': np.random.randint(0, 15, 9)})\n",
    "\n",
    "out = df.groupby('fruit', as_index=False)['price'].mean()\n",
    "print(out)"
   ]
  },
  {
   "cell_type": "markdown",
   "metadata": {},
   "source": [
    "# 7.How to get the n’th largest value of a column when grouped by another column?\n",
    "\n",
    "* In df, find the second largest value of 'taste' for 'banana'\n",
    "\n",
    "* Input\n",
    "\n",
    "* df = pd.DataFrame({'fruit': ['apple', 'banana', 'orange'] * 3,\n",
    "\n",
    "             'rating': np.random.rand(9),\n",
    "             'price': np.random.randint(0, 15, 9)})"
   ]
  },
  {
   "cell_type": "code",
   "execution_count": 53,
   "metadata": {},
   "outputs": [
    {
     "name": "stdout",
     "output_type": "stream",
     "text": [
      "    fruit    rating  price\n",
      "0   apple  0.581907      3\n",
      "1  banana  0.685986      4\n",
      "2  orange  0.559438      5\n",
      "3   apple  0.469297      0\n",
      "4  banana  0.738583      5\n",
      "5  orange  0.605245     10\n",
      "6   apple  0.068216      7\n",
      "7  banana  0.577075     10\n",
      "8  orange  0.924571      8\n"
     ]
    },
    {
     "data": {
      "text/plain": [
       "0.6859857613962903"
      ]
     },
     "execution_count": 53,
     "metadata": {},
     "output_type": "execute_result"
    }
   ],
   "source": [
    "df = pd.DataFrame({'fruit': ['apple', 'banana', 'orange'] * 3,\n",
    "                   'rating': np.random.rand(9),\n",
    "                   'price': np.random.randint(0, 15, 9)})\n",
    "\n",
    "print(df)\n",
    "df_grpd = df['rating'].groupby(df.fruit)\n",
    "df_grpd.get_group('banana').sort_values().iloc[-2]"
   ]
  },
  {
   "cell_type": "markdown",
   "metadata": {},
   "source": [
    "# 8.How to get the particular group of a groupby dataframe by key?\n",
    "\n",
    "* This is a question related to understanding of grouped dataframe. From df_grouped, get the group belonging to 'apple' as a dataframe.\n",
    "\n",
    "* Input\n",
    "\n",
    "* df = pd.DataFrame({'col1': ['apple', 'banana', 'orange'] * 3,\n",
    "\n",
    "             'col2': np.random.rand(9),\n",
    "             'col3': np.random.randint(0, 15, 9)})\n",
    "* df_grouped = df.groupby(['col1']) "
   ]
  },
  {
   "cell_type": "code",
   "execution_count": 54,
   "metadata": {},
   "outputs": [
    {
     "data": {
      "text/html": [
       "<div>\n",
       "<style scoped>\n",
       "    .dataframe tbody tr th:only-of-type {\n",
       "        vertical-align: middle;\n",
       "    }\n",
       "\n",
       "    .dataframe tbody tr th {\n",
       "        vertical-align: top;\n",
       "    }\n",
       "\n",
       "    .dataframe thead th {\n",
       "        text-align: right;\n",
       "    }\n",
       "</style>\n",
       "<table border=\"1\" class=\"dataframe\">\n",
       "  <thead>\n",
       "    <tr style=\"text-align: right;\">\n",
       "      <th></th>\n",
       "      <th>col1</th>\n",
       "      <th>col2</th>\n",
       "      <th>col3</th>\n",
       "    </tr>\n",
       "  </thead>\n",
       "  <tbody>\n",
       "    <tr>\n",
       "      <th>0</th>\n",
       "      <td>apple</td>\n",
       "      <td>0.761309</td>\n",
       "      <td>3</td>\n",
       "    </tr>\n",
       "    <tr>\n",
       "      <th>3</th>\n",
       "      <td>apple</td>\n",
       "      <td>0.485194</td>\n",
       "      <td>12</td>\n",
       "    </tr>\n",
       "    <tr>\n",
       "      <th>6</th>\n",
       "      <td>apple</td>\n",
       "      <td>0.751350</td>\n",
       "      <td>10</td>\n",
       "    </tr>\n",
       "  </tbody>\n",
       "</table>\n",
       "</div>"
      ],
      "text/plain": [
       "    col1      col2  col3\n",
       "0  apple  0.761309     3\n",
       "3  apple  0.485194    12\n",
       "6  apple  0.751350    10"
      ]
     },
     "execution_count": 54,
     "metadata": {},
     "output_type": "execute_result"
    }
   ],
   "source": [
    "df = pd.DataFrame({'col1': ['apple', 'banana', 'orange'] * 3,\n",
    "                   'col2': np.random.rand(9),\n",
    "                   'col3': np.random.randint(0, 15, 9)})\n",
    "\n",
    "df_grouped = df.groupby(['col1'])\n",
    "\n",
    "df_grouped.get_group('apple')"
   ]
  },
  {
   "cell_type": "markdown",
   "metadata": {},
   "source": [
    "# 9.How to replace both the diagonals of dataframe with 0? Replace both values in both diagonals of df with 0.\n",
    "\n",
    "* Input\n",
    " * df = pd.DataFrame(np.random.randint(1,100, 100).reshape(10, -1))\n",
    "\n",
    "* df\n",
    "* 0 1 2 3 4 5 6 7 8 9\n",
    "* 0 11 46 26 44 11 62 18 70 68 26\n",
    "* 1 87 71 52 50 81 43 83 39 3 59\n",
    "* 2 47 76 93 77 73 2 2 16 14 26\n",
    "* 3 64 18 74 22 16 37 60 8 66 39\n",
    "* 4 10 18 39 98 25 8 32 6 3 29\n",
    "* 5 29 91 27 86 23 84 28 31 97 10\n",
    "* 6 37 71 70 65 4 72 82 89 12 97\n",
    "* 7 65 22 97 75 17 10 43 78 12 77\n",
    "* 8 47 57 96 55 17 83 61 85 26 86\n",
    "* 9 76 80 28 45 77 12 67 80 7 63"
   ]
  },
  {
   "cell_type": "code",
   "execution_count": 55,
   "metadata": {},
   "outputs": [
    {
     "name": "stdout",
     "output_type": "stream",
     "text": [
      "    0   1   2   3   4   5   6   7   8   9\n",
      "0   0  54  51  56  55  89  84  51  12   0\n",
      "1  16   0  70  29  86  23  55  66   0  63\n",
      "2  40  51   0  85  99  10  32   0  67  78\n",
      "3  40   9  93   0  61  31   0  75  63  88\n",
      "4  36   3  18   9   0   0  92  19  31  15\n",
      "5  71  85  85  88   0   0  11  12  28  25\n",
      "6   4   1  27   0  30  56   0  30  32   8\n",
      "7  32  23   0  85  45  65  89   0  31  16\n",
      "8   8   0  13  16  88  68  24  92   0   2\n",
      "9   0  93   2  66   9  79  96  16  20   0\n"
     ]
    }
   ],
   "source": [
    "df = pd.DataFrame(np.random.randint(1,100, 100).reshape(10, -1))\n",
    "for i in range(df.shape[0]):\n",
    "    df.iat[i, i] = 0\n",
    "    df.iat[df.shape[0]-i-1, i] = 0\n",
    "print(df)"
   ]
  },
  {
   "cell_type": "markdown",
   "metadata": {},
   "source": [
    "# 10.How to compute the correlation of each row with the suceeding row?\n",
    "* Compute the correlation of each row of df with its succeeding row.\n",
    "\n",
    "* Input\n",
    "\n",
    "* df = pd.DataFrame(np.random.randint(1,100, 80).reshape(8, -1))"
   ]
  },
  {
   "cell_type": "code",
   "execution_count": 56,
   "metadata": {},
   "outputs": [
    {
     "data": {
      "text/plain": [
       "[0.06, -0.18, -0.07, 0.33, 0.33, 0.67, -0.63]"
      ]
     },
     "execution_count": 56,
     "metadata": {},
     "output_type": "execute_result"
    }
   ],
   "source": [
    "df = pd.DataFrame(np.random.randint(1,100, 80).reshape(8, -1))\n",
    "\n",
    "[df.iloc[i].corr(df.iloc[i+1]).round(2) for i in range(df.shape[0])[:-1]]"
   ]
  },
  {
   "cell_type": "markdown",
   "metadata": {},
   "source": [
    "# 11.How to normalize all columns in a dataframe?\n",
    "\n",
    "* Normalize all columns of df by subtracting the column mean and divide by standard deviation.\n",
    "* Range all columns of df such that the minimum value in each column is 0 and max is 1.\n",
    "* Don’t use external packages like sklearn.\n",
    "\n",
    "* Input\n",
    "\n",
    "* df = pd.DataFrame(np.random.randint(1,100, 80).reshape(8, -1))"
   ]
  },
  {
   "cell_type": "code",
   "execution_count": 57,
   "metadata": {},
   "outputs": [
    {
     "name": "stdout",
     "output_type": "stream",
     "text": [
      "Solution Q1\n",
      "       0     1     2     3     4     5     6     7     8     9\n",
      "0  1.90  0.10  0.02  1.07  0.76 -0.10 -0.73  0.66  0.69 -0.35\n",
      "1  0.10 -0.35 -1.20  1.04 -1.15  0.62  1.79 -1.05 -0.88  0.09\n",
      "2 -0.22  1.22  0.92 -0.71 -0.07 -1.30 -0.59  0.85  1.67 -0.46\n",
      "3  0.47 -1.63  1.22  0.31 -0.67  0.84 -0.35 -0.67  0.33  0.14\n",
      "4 -1.38  0.63 -1.12 -1.26  1.63 -1.58  0.86 -1.08  0.07  2.12\n",
      "5 -1.07 -0.73  0.65 -1.44  0.13 -0.04 -0.80  0.87 -1.24 -0.19\n",
      "6  0.26 -0.49 -1.09  0.40  0.62  1.28  0.75 -0.86  0.43 -1.45\n",
      "7 -0.06  1.25  0.60  0.58 -1.26  0.29 -0.93  1.28 -1.07  0.09\n"
     ]
    }
   ],
   "source": [
    "df = pd.DataFrame(np.random.randint(1,100, 80).reshape(8, -1))\n",
    "\n",
    "out1 = df.apply(lambda x: ((x - x.mean())/x.std()).round(2))\n",
    "print('Solution Q1\\n',out1)"
   ]
  },
  {
   "cell_type": "markdown",
   "metadata": {},
   "source": [
    "# 12.How to create a column that contains the penultimate value in each row?\n",
    "* Create a new column 'penultimate' which has the second largest value of each row of df.\n",
    "\n",
    "* Input\n",
    "\n",
    "* df = pd.DataFrame(np.random.randint(1,100, 80).reshape(8, -1))"
   ]
  },
  {
   "cell_type": "code",
   "execution_count": 58,
   "metadata": {},
   "outputs": [
    {
     "name": "stdout",
     "output_type": "stream",
     "text": [
      "    0   1   2   3   4   5   6   7   8   9  penultimate\n",
      "0  81   8  62  11  25  76   3  40  29   4           76\n",
      "1  90  94  53  32  31  70  97  67   9  59           94\n",
      "2  65  86  40  26  72  55  35  36  27   6           72\n",
      "3   5  25   5  69  76  67  18  13  11  17           69\n",
      "4  48  17  53  90  51  53  14  59  88  20           88\n",
      "5  21  27  71  23  21  89  83  53  89  77           83\n",
      "6  72  96  90  14  39   8  55  83  17  53           90\n",
      "7  65  34  51  28   7  61  44  46  85  99           85\n"
     ]
    }
   ],
   "source": [
    "df = pd.DataFrame(np.random.randint(1,100, 80).reshape(8, -1))\n",
    "\n",
    "out = df.apply(lambda x: x.sort_values().unique()[-2], axis=1)\n",
    "df['penultimate'] = out\n",
    "print(df)"
   ]
  },
  {
   "cell_type": "markdown",
   "metadata": {},
   "source": [
    "# 13.How to create a column containing the minimum by maximum of each row?\n",
    "\n",
    "* Compute the minimum-by-maximum for every row of df.\n",
    "\n",
    "* df = pd.DataFrame(np.random.randint(1,100, 80).reshape(8, -1)) "
   ]
  },
  {
   "cell_type": "code",
   "execution_count": 59,
   "metadata": {},
   "outputs": [
    {
     "data": {
      "text/html": [
       "<div>\n",
       "<style scoped>\n",
       "    .dataframe tbody tr th:only-of-type {\n",
       "        vertical-align: middle;\n",
       "    }\n",
       "\n",
       "    .dataframe tbody tr th {\n",
       "        vertical-align: top;\n",
       "    }\n",
       "\n",
       "    .dataframe thead th {\n",
       "        text-align: right;\n",
       "    }\n",
       "</style>\n",
       "<table border=\"1\" class=\"dataframe\">\n",
       "  <thead>\n",
       "    <tr style=\"text-align: right;\">\n",
       "      <th></th>\n",
       "      <th>0</th>\n",
       "      <th>1</th>\n",
       "      <th>2</th>\n",
       "      <th>3</th>\n",
       "      <th>4</th>\n",
       "      <th>5</th>\n",
       "      <th>6</th>\n",
       "      <th>7</th>\n",
       "      <th>8</th>\n",
       "      <th>9</th>\n",
       "    </tr>\n",
       "  </thead>\n",
       "  <tbody>\n",
       "    <tr>\n",
       "      <th>0</th>\n",
       "      <td>34</td>\n",
       "      <td>97</td>\n",
       "      <td>67</td>\n",
       "      <td>58</td>\n",
       "      <td>62</td>\n",
       "      <td>98</td>\n",
       "      <td>34</td>\n",
       "      <td>18</td>\n",
       "      <td>9</td>\n",
       "      <td>97</td>\n",
       "    </tr>\n",
       "    <tr>\n",
       "      <th>1</th>\n",
       "      <td>53</td>\n",
       "      <td>64</td>\n",
       "      <td>65</td>\n",
       "      <td>19</td>\n",
       "      <td>94</td>\n",
       "      <td>56</td>\n",
       "      <td>14</td>\n",
       "      <td>10</td>\n",
       "      <td>28</td>\n",
       "      <td>57</td>\n",
       "    </tr>\n",
       "    <tr>\n",
       "      <th>2</th>\n",
       "      <td>29</td>\n",
       "      <td>36</td>\n",
       "      <td>98</td>\n",
       "      <td>8</td>\n",
       "      <td>47</td>\n",
       "      <td>16</td>\n",
       "      <td>65</td>\n",
       "      <td>14</td>\n",
       "      <td>52</td>\n",
       "      <td>24</td>\n",
       "    </tr>\n",
       "    <tr>\n",
       "      <th>3</th>\n",
       "      <td>25</td>\n",
       "      <td>8</td>\n",
       "      <td>44</td>\n",
       "      <td>31</td>\n",
       "      <td>90</td>\n",
       "      <td>46</td>\n",
       "      <td>98</td>\n",
       "      <td>18</td>\n",
       "      <td>55</td>\n",
       "      <td>98</td>\n",
       "    </tr>\n",
       "    <tr>\n",
       "      <th>4</th>\n",
       "      <td>31</td>\n",
       "      <td>65</td>\n",
       "      <td>17</td>\n",
       "      <td>86</td>\n",
       "      <td>58</td>\n",
       "      <td>15</td>\n",
       "      <td>22</td>\n",
       "      <td>69</td>\n",
       "      <td>98</td>\n",
       "      <td>55</td>\n",
       "    </tr>\n",
       "    <tr>\n",
       "      <th>5</th>\n",
       "      <td>40</td>\n",
       "      <td>14</td>\n",
       "      <td>69</td>\n",
       "      <td>39</td>\n",
       "      <td>88</td>\n",
       "      <td>30</td>\n",
       "      <td>97</td>\n",
       "      <td>90</td>\n",
       "      <td>76</td>\n",
       "      <td>51</td>\n",
       "    </tr>\n",
       "    <tr>\n",
       "      <th>6</th>\n",
       "      <td>50</td>\n",
       "      <td>27</td>\n",
       "      <td>53</td>\n",
       "      <td>29</td>\n",
       "      <td>81</td>\n",
       "      <td>63</td>\n",
       "      <td>24</td>\n",
       "      <td>48</td>\n",
       "      <td>51</td>\n",
       "      <td>30</td>\n",
       "    </tr>\n",
       "    <tr>\n",
       "      <th>7</th>\n",
       "      <td>40</td>\n",
       "      <td>16</td>\n",
       "      <td>24</td>\n",
       "      <td>13</td>\n",
       "      <td>60</td>\n",
       "      <td>2</td>\n",
       "      <td>36</td>\n",
       "      <td>42</td>\n",
       "      <td>78</td>\n",
       "      <td>42</td>\n",
       "    </tr>\n",
       "  </tbody>\n",
       "</table>\n",
       "</div>"
      ],
      "text/plain": [
       "    0   1   2   3   4   5   6   7   8   9\n",
       "0  34  97  67  58  62  98  34  18   9  97\n",
       "1  53  64  65  19  94  56  14  10  28  57\n",
       "2  29  36  98   8  47  16  65  14  52  24\n",
       "3  25   8  44  31  90  46  98  18  55  98\n",
       "4  31  65  17  86  58  15  22  69  98  55\n",
       "5  40  14  69  39  88  30  97  90  76  51\n",
       "6  50  27  53  29  81  63  24  48  51  30\n",
       "7  40  16  24  13  60   2  36  42  78  42"
      ]
     },
     "execution_count": 59,
     "metadata": {},
     "output_type": "execute_result"
    }
   ],
   "source": [
    "df = pd.DataFrame(np.random.randint(1,100, 80).reshape(8, -1))\n",
    "\n",
    "min_by_max = df.apply(lambda x: np.min(x)/np.max(x), axis=1)\n",
    "df"
   ]
  },
  {
   "cell_type": "markdown",
   "metadata": {},
   "source": [
    "# 14.How to know the maximum possible correlation value of each column against other columns?\n",
    "\n",
    "* Compute maximum possible absolute correlation value of each column against other columns in df.\n",
    "\n",
    "* Input\n",
    "\n",
    "* df = pd.DataFrame(np.random.randint(1,100, 80).reshape(8, -1), columns=list('pqrstuvwxy'), index=list('abcdefgh'))"
   ]
  },
  {
   "cell_type": "code",
   "execution_count": 60,
   "metadata": {},
   "outputs": [
    {
     "name": "stdout",
     "output_type": "stream",
     "text": [
      "Maximum Correlation possible for each column:  [0.69 0.66 0.75 0.74 0.47 0.75 0.74 0.6  0.69 0.62]\n"
     ]
    }
   ],
   "source": [
    "df = pd.DataFrame(np.random.randint(1,100, 80).reshape(8, -1), columns=list('pqrstuvwxy'), index=list('abcdefgh'))\n",
    "df\n",
    "abs_corrmat = np.abs(df.corr())\n",
    "max_corr = abs_corrmat.apply(lambda x: sorted(x)[-2])\n",
    "print('Maximum Correlation possible for each column: ', np.round(max_corr.tolist(), 2))"
   ]
  },
  {
   "cell_type": "markdown",
   "metadata": {},
   "source": [
    "# 15.Which column contains the highest number of row-wise maximum values?\n",
    "* Obtain the column name with the highest number of row-wise maximum’s in df.\n",
    "\n",
    "* df = pd.DataFrame(np.random.randint(1,100, 40).reshape(10, -1))"
   ]
  },
  {
   "cell_type": "code",
   "execution_count": 61,
   "metadata": {},
   "outputs": [
    {
     "name": "stdout",
     "output_type": "stream",
     "text": [
      "Column with highest row maxes:  1\n"
     ]
    }
   ],
   "source": [
    "df = pd.DataFrame(np.random.randint(1,100, 40).reshape(10, -1))\n",
    "\n",
    "print('Column with highest row maxes: ', df.apply(np.argmax, axis=1).value_counts().index[0])"
   ]
  },
  {
   "cell_type": "code",
   "execution_count": null,
   "metadata": {},
   "outputs": [],
   "source": []
  }
 ],
 "metadata": {
  "kernelspec": {
   "display_name": "Python 3",
   "language": "python",
   "name": "python3"
  },
  "language_info": {
   "codemirror_mode": {
    "name": "ipython",
    "version": 3
   },
   "file_extension": ".py",
   "mimetype": "text/x-python",
   "name": "python",
   "nbconvert_exporter": "python",
   "pygments_lexer": "ipython3",
   "version": "3.8.5"
  }
 },
 "nbformat": 4,
 "nbformat_minor": 4
}
